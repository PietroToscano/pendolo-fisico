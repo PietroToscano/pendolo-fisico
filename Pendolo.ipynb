{
 "cells": [
  {
   "cell_type": "code",
   "execution_count": 142,
   "metadata": {},
   "outputs": [],
   "source": [
    "import numpy as np\n",
    "import scipy.stats as st\n",
    "import matplotlib.pyplot as plt\n",
    "from numpy import random as ran\n",
    "\n",
    "%matplotlib inline"
   ]
  },
  {
   "cell_type": "code",
   "execution_count": 143,
   "metadata": {},
   "outputs": [],
   "source": [
    "l = 0.607\n",
    "dl = 0.002\n",
    "T = [[12.47, 15.88, 15.75, 15.79, 15.75, 15.63, 14.94, 15.22, 15.78, 15.66],\n",
    "     [15.91, 15.88, 15.93, 15.97, 16.09, 15.72, 15.90, 15.89, 15.87, 15.85],\n",
    "     [15.84, 15.98, 15.95, 15.85, 15.98, 15.98, 15.83, 15.83, 15.89, 15.93],\n",
    "     [16.60, 16.25, 17.72, 16.28, 16.31, 16.53, 16.09, 16.28, 16.50, 16.37],\n",
    "     [16.28, 16.31, 16.75, 16.66, 16.41, 16.22, 16.53, 16.56, 16.40, 16.29],\n",
    "     [16.78, 16.72, 16.78, 16.94, 16.62, 16.88, 16.56, 16.37, 16.75, 16.94],\n",
    "     [16.69, 17.22, 16.94, 16.96, 17.12, 17.35, 17.16, 17.04, 17.03, 17.13],\n",
    "     [17.07, 17.13, 17.03, 17.00, 16.94, 17.12, 17.03, 17.00, 16.87, 17.04],\n",
    "     [17.60, 17.22, 17.43, 17.40, 17.43, 17.10, 17.25, 17.25, 17.22, 17.38]]\n",
    "dt = 0.01\n",
    "T = [[x/10. for x in t] for t in T]\n",
    "sq = [[x**2 for x in t] for t in T]\n",
    "th = 30\n",
    "dth = 1\n",
    "N = 10\n",
    "gr = 8\n",
    "pi = np.pi\n",
    "T0 = 2 * pi * (l/9.81)**.5\n",
    "\n",
    "t2 = np.zeros(gr)\n",
    "for i in range(0, gr):\n",
    "    t2[i] = (30 + i*5)*pi/180\n",
    "\n",
    "Teor = np.zeros(N)\n",
    "for i in range(0, N):\n",
    "    Teor[i] = T0 * (1 + (pi/6 + pi/36 * i)**2 /16)"
   ]
  },
  {
   "cell_type": "code",
   "execution_count": 144,
   "metadata": {
    "scrolled": true
   },
   "outputs": [
    {
     "name": "stdout",
     "output_type": "stream",
     "text": [
      "Per un angolo di 30 gradi, T =  1.529 +- 0.098 s, contro un periodo teorico di  1.59 s\n",
      "Per un angolo di 35 gradi, T =  1.59 +- 0.013 s, contro un periodo teorico di  1.6 s\n",
      "Per un angolo di 40 gradi, T =  1.591 +- 0.012 s, contro un periodo teorico di  1.61 s\n",
      "Per un angolo di 45 gradi, T =  1.649 +- 0.044 s, contro un periodo teorico di  1.62 s\n",
      "Per un angolo di 50 gradi, T =  1.644 +- 0.02 s, contro un periodo teorico di  1.64 s\n",
      "Per un angolo di 55 gradi, T =  1.673 +- 0.02 s, contro un periodo teorico di  1.65 s\n",
      "Per un angolo di 60 gradi, T =  1.706 +- 0.02 s, contro un periodo teorico di  1.67 s\n",
      "Per un angolo di 65 gradi, T =  1.702 +- 0.012 s, contro un periodo teorico di  1.69 s\n"
     ]
    }
   ],
   "source": [
    "def Somma(v, lun):\n",
    "    ris = 0\n",
    "    for i in range(0, lun):\n",
    "        ris = ris + v[i]\n",
    "    return ris\n",
    "\n",
    "med = np.zeros(gr)\n",
    "err = np.zeros(gr)\n",
    "for i in range(0, gr):\n",
    "    med[i] = Somma(T[i], N)/N\n",
    "    err[i] = (Somma(sq[i], N)/N - med[i]**2 + dt**2)**.5\n",
    "    print(\"Per un angolo di\", 30+5*i, \"gradi, T = \", round(med[i], 3), \"+-\", round(err[i], 3), \"s, contro un periodo teorico di \", round(Teor[i], 2), \"s\")"
   ]
  },
  {
   "cell_type": "code",
   "execution_count": 145,
   "metadata": {},
   "outputs": [
    {
     "name": "stdout",
     "output_type": "stream",
     "text": [
      "Il coefficiente di correlazione è 0.9636446859364053\n"
     ]
    }
   ],
   "source": [
    "#Coefficiente di correlazione fra T e theta^2\n",
    "num = 0\n",
    "den1 = 0\n",
    "den2 = 0\n",
    "Tmed = Somma(med, gr)/gr\n",
    "t2med = Somma(t2, gr)/gr\n",
    "for i in range(0, gr):\n",
    "    num = num + (med[i] - Tmed)*(t2[i] - t2med)\n",
    "    den1 = den1 + (med[i] - Tmed)**2\n",
    "    den2 = den2 + (t2[i] - t2med)**2\n",
    "    \n",
    "r = num/(den1 * den2)**.5\n",
    "print(\"Il coefficiente di correlazione è\", r)"
   ]
  },
  {
   "cell_type": "code",
   "execution_count": 146,
   "metadata": {},
   "outputs": [
    {
     "name": "stdout",
     "output_type": "stream",
     "text": [
      "La best fit per i  dati in questione è: T = ( 0.244  +- 0.029 ) theta^2 + ( 1.432 +- 0.026 )\n"
     ]
    },
    {
     "data": {
      "image/png": "[encoded data removed]",
      "text/plain": [
       "<Figure size 432x288 with 1 Axes>"
      ]
     },
     "metadata": {
      "needs_background": "light"
     },
     "output_type": "display_data"
    }
   ],
   "source": [
    "w = [d**(-2) for d in err]\n",
    "delta = Somma(w, gr) * Somma(np.multiply(w, np.power(t2, 2)), gr) - (Somma(np.multiply(w, t2), gr))**2\n",
    "\n",
    "A = (Somma(np.multiply(w, np.power(t2, 2)), gr) * Somma(np.multiply(w, med), gr) - Somma(np.multiply(w, t2), gr) * Somma(np.multiply(w, np.multiply(t2, med)) , gr))/delta\n",
    "unA = (Somma(np.multiply(w, np.power(t2, 2)), gr)/delta)**.5\n",
    "\n",
    "B = (Somma(w, gr) * Somma(np.multiply(w, np.multiply(t2, med)) , gr) - Somma(np.multiply(w, t2), gr) * Somma(np.multiply(w, med), gr))/delta\n",
    "unB = (Somma(w, gr)/delta)**.5\n",
    "\n",
    "print(\"La best fit per i  dati in questione è: T = (\", round(B, 3), \" +-\", round(unB, 3), \") theta^2 + (\", round(A, 3), \"+-\", round(unA, 3), \")\" )\n",
    "\n",
    "xvals = np.linspace(t2[0]-0.1, t2[gr-1]+.1, 200)\n",
    "yvals1 = B*xvals + A\n",
    "yvals2 = (B-unB)*xvals + (A-unA)\n",
    "yvals3 = (B+unB)*xvals + (A+unA)\n",
    "\n",
    "plt.plot(xvals, yvals1, 'b', xvals, yvals2, 'r', xvals, yvals3, 'r')\n",
    "for i in range(0, gr):\n",
    "    plt.vlines(t2[i], med[i] - err[i], med[i] + err[i])\n",
    "plt.grid()"
   ]
  },
  {
   "cell_type": "code",
   "execution_count": 147,
   "metadata": {},
   "outputs": [
    {
     "name": "stdout",
     "output_type": "stream",
     "text": [
      "L'accelerazione di gravità è: g = ( 11.694 +- 0.462 ) m/s^2\n"
     ]
    }
   ],
   "source": [
    "#Ricavare g\n",
    "#Sappiamo che B = T_0 = 2 pi sqrt(l/g), g = 4 pi^2 l/B^2\n",
    "\n",
    "g = 4 * pi**2 * l / (A)**2 \n",
    "\n",
    "errg = g * (dl/l + 2 * unA/A)\n",
    "\n",
    "print(\"L'accelerazione di gravità è: g = (\", round(g, 3), \"+-\", round(errg, 3), \") m/s^2\" )"
   ]
  }
 ],
 "metadata": {
  "kernelspec": {
   "display_name": "Python 3",
   "language": "python",
   "name": "python3"
  },
  "language_info": {
   "codemirror_mode": {
    "name": "ipython",
    "version": 3
   },
   "file_extension": ".py",
   "mimetype": "text/x-python",
   "name": "python",
   "nbconvert_exporter": "python",
   "pygments_lexer": "ipython3",
   "version": "3.8.3"
  }
 },
 "nbformat": 4,
 "nbformat_minor": 4
}
